{
 "cells": [
  {
   "cell_type": "code",
   "execution_count": 1,
   "metadata": {},
   "outputs": [
    {
     "name": "stdout",
     "output_type": "stream",
     "text": [
      "Requirement already satisfied: flask in c:\\users\\quek3\\anaconda3\\lib\\site-packages (3.0.3)\n",
      "Requirement already satisfied: joblib in c:\\users\\quek3\\anaconda3\\lib\\site-packages (1.1.0)\n",
      "Requirement already satisfied: Werkzeug>=3.0.0 in c:\\users\\quek3\\anaconda3\\lib\\site-packages (from flask) (3.0.3)\n",
      "Requirement already satisfied: Jinja2>=3.1.2 in c:\\users\\quek3\\anaconda3\\lib\\site-packages (from flask) (3.1.4)\n",
      "Requirement already satisfied: itsdangerous>=2.1.2 in c:\\users\\quek3\\anaconda3\\lib\\site-packages (from flask) (2.2.0)\n",
      "Requirement already satisfied: click>=8.1.3 in c:\\users\\quek3\\anaconda3\\lib\\site-packages (from flask) (8.1.7)\n",
      "Requirement already satisfied: blinker>=1.6.2 in c:\\users\\quek3\\anaconda3\\lib\\site-packages (from flask) (1.8.2)\n",
      "Requirement already satisfied: importlib-metadata>=3.6.0 in c:\\users\\quek3\\anaconda3\\lib\\site-packages (from flask) (6.8.0)\n",
      "Requirement already satisfied: colorama in c:\\users\\quek3\\anaconda3\\lib\\site-packages (from click>=8.1.3->flask) (0.4.4)\n",
      "Requirement already satisfied: zipp>=0.5 in c:\\users\\quek3\\anaconda3\\lib\\site-packages (from importlib-metadata>=3.6.0->flask) (3.19.2)\n",
      "Requirement already satisfied: MarkupSafe>=2.0 in c:\\users\\quek3\\anaconda3\\lib\\site-packages (from Jinja2>=3.1.2->flask) (2.1.5)\n",
      "Note: you may need to restart the kernel to use updated packages.\n"
     ]
    },
    {
     "name": "stderr",
     "output_type": "stream",
     "text": [
      "WARNING: Ignoring invalid distribution -lack (c:\\users\\quek3\\anaconda3\\lib\\site-packages)\n",
      "WARNING: Ignoring invalid distribution -lask (c:\\users\\quek3\\anaconda3\\lib\\site-packages)\n",
      "WARNING: Ignoring invalid distribution -lack (c:\\users\\quek3\\anaconda3\\lib\\site-packages)\n",
      "WARNING: Ignoring invalid distribution -lask (c:\\users\\quek3\\anaconda3\\lib\\site-packages)\n",
      "WARNING: Ignoring invalid distribution -lack (c:\\users\\quek3\\anaconda3\\lib\\site-packages)\n",
      "WARNING: Ignoring invalid distribution -lask (c:\\users\\quek3\\anaconda3\\lib\\site-packages)\n"
     ]
    }
   ],
   "source": [
    "pip install flask joblib\n"
   ]
  },
  {
   "cell_type": "code",
   "execution_count": 2,
   "metadata": {},
   "outputs": [
    {
     "name": "stderr",
     "output_type": "stream",
     "text": [
      "<frozen importlib._bootstrap>:228: RuntimeWarning: scipy._lib.messagestream.MessageStream size changed, may indicate binary incompatibility. Expected 56 from C header, got 64 from PyObject\n",
      "The StatsForecast module could not be imported. To enable support for the StatsForecastAutoARIMA, StatsForecastAutoETS and Croston models, please consider installing it.\n"
     ]
    }
   ],
   "source": [
    "from flask import Flask, request, jsonify\n",
    "import joblib\n",
    "import pandas as pd\n",
    "import numpy as np\n",
    "from sklearn.preprocessing import MinMaxScaler\n",
    "from darts import TimeSeries\n",
    "from darts.models import KalmanFilter\n",
    "from darts.models import KalmanForecaster\n",
    "import os\n",
    "\n",
    "from sklearn.metrics import mean_squared_error\n",
    "from statistics import mean\n",
    "import math"
   ]
  },
  {
   "cell_type": "code",
   "execution_count": 3,
   "metadata": {},
   "outputs": [],
   "source": [
    "#model_path = 'C:/Users/marke/DSCP/models/test_forecast_model.pkl'\n",
    "\n",
    "#def load_model():\n",
    "#    return joblib.load(model_path)\n",
    "\n",
    "#def save_model(model):\n",
    "#    joblib.dump(model, model_path)\n",
    "\n",
    "def detect_outliers(series, threshold=2): # need to set threshold of 1 for changes to be made\n",
    "    mean = series.mean()\n",
    "    std = series.std()\n",
    "    z_scores = (series - mean) / std\n",
    "    return z_scores.abs() > threshold\n",
    "\n",
    "def data_preprocessing():\n",
    "\n",
    "    ### Load new data\n",
    "    new_data = pd.read_csv('fromazure (Macpherson).csv')\n",
    "\n",
    "    ### Fixing Data Types and Index\n",
    "    new_data['TimeFrame'] = pd.to_datetime(new_data['TimeFrame'])\n",
    "    start_timestamp = new_data['TimeFrame'].min() + pd.Timedelta(minutes=10)\n",
    "\n",
    "    new_timestamps = pd.date_range(start=start_timestamp, periods = len(new_data), freq='10T')    # Generate the new timestamps at 10-minute intervals\n",
    "    new_df = pd.DataFrame({'TimeFrame': new_timestamps})\n",
    "    new_data['TimeFrame'] = new_df['TimeFrame']     # Replace the NaT values with the new timestamps\n",
    "\n",
    "    ### Fixing 0 values\n",
    "\n",
    "    time_series_col = ['AvgPhosphorous', 'AvgNitrogen', 'AvgPotassium', 'LightIntensity', 'Temperature', 'Humidity', 'Heat']\n",
    "\n",
    "    for i in time_series_col:\n",
    "        new_data[i] = new_data[i].replace(0, np.nan)\n",
    "        new_data[i] = new_data[i].bfill()\n",
    "\n",
    "\n",
    "    ### Fixing Outliers\n",
    "\n",
    "    for column in new_data[time_series_col].columns:\n",
    "        outliers = detect_outliers(new_data[column])\n",
    "        new_data.loc[outliers, column] = np.nan\n",
    "        new_data[column].fillna(new_data[column].mean(), inplace=True)\n",
    "\n",
    "\n",
    "    ### Dropping and Splitting\n",
    "\n",
    "\n",
    "    new_data.drop(['LightIntensity', 'Humidity', 'Heat', 'Buzzer', 'SoilMoisture', 'Compost'], axis=1, inplace=True)\n",
    "\n",
    "    train = new_data[:int(0.8*(len(new_data)))]\n",
    "    test= new_data[int(0.8*(len(new_data))):]\n",
    "\n",
    "    train_timeframe = train['TimeFrame']    # Save the timeframe index for the forecast model\n",
    "    test_timeframe = test['TimeFrame']\n",
    "\n",
    "    train.drop('TimeFrame', axis=1, inplace=True)\n",
    "\n",
    "    print(train.head())\n",
    "\n",
    "    ### Scaling\n",
    "\n",
    "    scaler = MinMaxScaler(feature_range=(0, 1))\n",
    "    scaled_train = scaler.fit_transform(train)\n",
    "\n",
    "    col_list = train.columns.to_list()\n",
    "    scaled_train = pd.DataFrame(scaled_train, columns=col_list)\n",
    "\n",
    "    scaled_train.index = train_timeframe\n",
    "\n",
    "    return scaled_train, test, train_timeframe, test_timeframe, scaler"
   ]
  },
  {
   "cell_type": "code",
   "execution_count": 4,
   "metadata": {},
   "outputs": [
    {
     "name": "stdout",
     "output_type": "stream",
     "text": [
      "   NumberOfWorms  AvgPhosphorous  AvgNitrogen  AvgPotassium  Temperature\n",
      "0             30            55.0        142.0         127.0         32.7\n",
      "1             30            55.0        142.0         115.0         32.7\n",
      "2             30            55.0        140.0         127.5         32.7\n",
      "3             30            55.0        140.0         126.0         32.7\n",
      "4             30            55.0        140.0         127.0         32.7\n"
     ]
    },
    {
     "name": "stderr",
     "output_type": "stream",
     "text": [
      "C:\\Users\\quek3\\AppData\\Local\\Temp\\ipykernel_30896\\981235210.py:24: FutureWarning: 'T' is deprecated and will be removed in a future version, please use 'min' instead.\n",
      "  new_timestamps = pd.date_range(start=start_timestamp, periods = len(new_data), freq='10T')    # Generate the new timestamps at 10-minute intervals\n",
      "C:\\Users\\quek3\\AppData\\Local\\Temp\\ipykernel_30896\\981235210.py:42: FutureWarning: A value is trying to be set on a copy of a DataFrame or Series through chained assignment using an inplace method.\n",
      "The behavior will change in pandas 3.0. This inplace method will never work because the intermediate object on which we are setting values always behaves as a copy.\n",
      "\n",
      "For example, when doing 'df[col].method(value, inplace=True)', try using 'df.method({col: value}, inplace=True)' or df[col] = df[col].method(value) instead, to perform the operation inplace on the original object.\n",
      "\n",
      "\n",
      "  new_data[column].fillna(new_data[column].mean(), inplace=True)\n",
      "C:\\Users\\quek3\\AppData\\Local\\Temp\\ipykernel_30896\\981235210.py:42: FutureWarning: A value is trying to be set on a copy of a DataFrame or Series through chained assignment using an inplace method.\n",
      "The behavior will change in pandas 3.0. This inplace method will never work because the intermediate object on which we are setting values always behaves as a copy.\n",
      "\n",
      "For example, when doing 'df[col].method(value, inplace=True)', try using 'df.method({col: value}, inplace=True)' or df[col] = df[col].method(value) instead, to perform the operation inplace on the original object.\n",
      "\n",
      "\n",
      "  new_data[column].fillna(new_data[column].mean(), inplace=True)\n",
      "C:\\Users\\quek3\\AppData\\Local\\Temp\\ipykernel_30896\\981235210.py:42: FutureWarning: A value is trying to be set on a copy of a DataFrame or Series through chained assignment using an inplace method.\n",
      "The behavior will change in pandas 3.0. This inplace method will never work because the intermediate object on which we are setting values always behaves as a copy.\n",
      "\n",
      "For example, when doing 'df[col].method(value, inplace=True)', try using 'df.method({col: value}, inplace=True)' or df[col] = df[col].method(value) instead, to perform the operation inplace on the original object.\n",
      "\n",
      "\n",
      "  new_data[column].fillna(new_data[column].mean(), inplace=True)\n",
      "C:\\Users\\quek3\\AppData\\Local\\Temp\\ipykernel_30896\\981235210.py:42: FutureWarning: A value is trying to be set on a copy of a DataFrame or Series through chained assignment using an inplace method.\n",
      "The behavior will change in pandas 3.0. This inplace method will never work because the intermediate object on which we are setting values always behaves as a copy.\n",
      "\n",
      "For example, when doing 'df[col].method(value, inplace=True)', try using 'df.method({col: value}, inplace=True)' or df[col] = df[col].method(value) instead, to perform the operation inplace on the original object.\n",
      "\n",
      "\n",
      "  new_data[column].fillna(new_data[column].mean(), inplace=True)\n",
      "C:\\Users\\quek3\\AppData\\Local\\Temp\\ipykernel_30896\\981235210.py:42: FutureWarning: A value is trying to be set on a copy of a DataFrame or Series through chained assignment using an inplace method.\n",
      "The behavior will change in pandas 3.0. This inplace method will never work because the intermediate object on which we are setting values always behaves as a copy.\n",
      "\n",
      "For example, when doing 'df[col].method(value, inplace=True)', try using 'df.method({col: value}, inplace=True)' or df[col] = df[col].method(value) instead, to perform the operation inplace on the original object.\n",
      "\n",
      "\n",
      "  new_data[column].fillna(new_data[column].mean(), inplace=True)\n",
      "C:\\Users\\quek3\\AppData\\Local\\Temp\\ipykernel_30896\\981235210.py:42: FutureWarning: A value is trying to be set on a copy of a DataFrame or Series through chained assignment using an inplace method.\n",
      "The behavior will change in pandas 3.0. This inplace method will never work because the intermediate object on which we are setting values always behaves as a copy.\n",
      "\n",
      "For example, when doing 'df[col].method(value, inplace=True)', try using 'df.method({col: value}, inplace=True)' or df[col] = df[col].method(value) instead, to perform the operation inplace on the original object.\n",
      "\n",
      "\n",
      "  new_data[column].fillna(new_data[column].mean(), inplace=True)\n",
      "C:\\Users\\quek3\\AppData\\Local\\Temp\\ipykernel_30896\\981235210.py:42: FutureWarning: A value is trying to be set on a copy of a DataFrame or Series through chained assignment using an inplace method.\n",
      "The behavior will change in pandas 3.0. This inplace method will never work because the intermediate object on which we are setting values always behaves as a copy.\n",
      "\n",
      "For example, when doing 'df[col].method(value, inplace=True)', try using 'df.method({col: value}, inplace=True)' or df[col] = df[col].method(value) instead, to perform the operation inplace on the original object.\n",
      "\n",
      "\n",
      "  new_data[column].fillna(new_data[column].mean(), inplace=True)\n",
      "C:\\Users\\quek3\\AppData\\Local\\Temp\\ipykernel_30896\\981235210.py:56: SettingWithCopyWarning: \n",
      "A value is trying to be set on a copy of a slice from a DataFrame\n",
      "\n",
      "See the caveats in the documentation: https://pandas.pydata.org/pandas-docs/stable/user_guide/indexing.html#returning-a-view-versus-a-copy\n",
      "  train.drop('TimeFrame', axis=1, inplace=True)\n"
     ]
    }
   ],
   "source": [
    "scaled_train, test, train_timeframe, test_timeframe, scaler = data_preprocessing()"
   ]
  },
  {
   "cell_type": "code",
   "execution_count": 5,
   "metadata": {},
   "outputs": [],
   "source": [
    "scaled_train.index = train_timeframe"
   ]
  },
  {
   "cell_type": "code",
   "execution_count": 6,
   "metadata": {},
   "outputs": [],
   "source": [
    "def kalman_model_retraining(scaled_train, test):\n",
    "\n",
    "    ### Create the TimeSeries object\n",
    "    kalman_df = scaled_train.reset_index()\n",
    "    kalman_df.rename(columns={'index': 'date'}, inplace=True)\n",
    "    col_list = scaled_train.columns.tolist()\n",
    "    series = TimeSeries.from_dataframe(kalman_df, 'TimeFrame', col_list)\n",
    "\n",
    "\n",
    "    ### Load the existing model\n",
    "    #model = load_model()\n",
    "\n",
    "    ### Train the Kalman model\n",
    "    model = KalmanForecaster(dim_x=series.width)\n",
    "    model.fit(series)\n",
    "\n",
    "    # Save the updated model\n",
    "    #save_model(model)\n",
    "\n",
    "    return model"
   ]
  },
  {
   "cell_type": "code",
   "execution_count": 7,
   "metadata": {},
   "outputs": [],
   "source": [
    "model = kalman_model_retraining(scaled_train, test)"
   ]
  },
  {
   "cell_type": "code",
   "execution_count": 8,
   "metadata": {},
   "outputs": [],
   "source": [
    "def model_prediction(model, test):\n",
    "    forecast_horizon = len(test)  # Number of steps to predict\n",
    "    forecast = model.predict(forecast_horizon)\n",
    "\n",
    "    forecast_df = forecast.pd_dataframe()\n",
    "    forecast_df = pd.DataFrame(scaler.inverse_transform(forecast_df))\n",
    "    forecast_df.columns=['NumberOfWorms_predicted', 'AvgPhosphorous_predicted', 'AvgNitrogen_predicted', 'AvgPotassium_predicted', 'Temperature_Predicted']  \n",
    "    \n",
    "    return  forecast_df"
   ]
  },
  {
   "cell_type": "code",
   "execution_count": 9,
   "metadata": {},
   "outputs": [],
   "source": [
    "forecast_df = model_prediction(model, test)"
   ]
  },
  {
   "cell_type": "code",
   "execution_count": 10,
   "metadata": {},
   "outputs": [],
   "source": [
    "def minimum_score(forecast_df, test):\n",
    "\n",
    "    phos_valid = None\n",
    "    nitro_valid = None\n",
    "    potas_valid = None\n",
    "\n",
    "    rmse_phos=math.sqrt(mean_squared_error(forecast_df['AvgPhosphorous_predicted'],test['AvgPhosphorous']))\n",
    "    print('Mean value of AvgPhosphorous is : {}. Root Mean Squared Error is :{}'.format(mean(test['AvgPhosphorous']),rmse_phos))\n",
    "\n",
    "    rmse_nitro=math.sqrt(mean_squared_error(forecast_df['AvgNitrogen_predicted'],test['AvgNitrogen']))\n",
    "    print('Mean value of AvgNitrogen is : {}. Root Mean Squared Error is :{}'.format(mean(test['AvgNitrogen']),rmse_nitro))\n",
    "\n",
    "    rmse_potas=math.sqrt(mean_squared_error(forecast_df['AvgPotassium_predicted'],test['AvgPotassium']))\n",
    "    print('Mean value of AvgPotassium is : {}. Root Mean Squared Error is :{}'.format(mean(test['AvgPotassium']),rmse_potas))\n",
    "\n",
    "    min_score_dict = {'Phos_Score': 100, 'Nitro_score': 70, 'Potas_score': 200}  ### Set the minimum score for each nutrient \n",
    "\n",
    "    if rmse_phos < min_score_dict['Phos_Score']:\n",
    "        phos_valid = True\n",
    "    if rmse_nitro < min_score_dict['Nitro_score']:\n",
    "        nitro_valid = True\n",
    "    if rmse_potas < min_score_dict['Potas_score']:\n",
    "        potas_valid = True\n",
    "\n",
    "    if phos_valid == True and nitro_valid == True and potas_valid == True:\n",
    "        return True\n",
    "    else:\n",
    "        return False"
   ]
  },
  {
   "cell_type": "code",
   "execution_count": 11,
   "metadata": {},
   "outputs": [
    {
     "name": "stdout",
     "output_type": "stream",
     "text": [
      "Mean value of AvgPhosphorous is : 56.526315789473685. Root Mean Squared Error is :14.368177759825771\n",
      "Mean value of AvgNitrogen is : 61.526315789473685. Root Mean Squared Error is :20.540311438294843\n",
      "Mean value of AvgPotassium is : 84.75438596491227. Root Mean Squared Error is :83.2935503613779\n"
     ]
    },
    {
     "data": {
      "text/plain": [
       "True"
      ]
     },
     "execution_count": 11,
     "metadata": {},
     "output_type": "execute_result"
    }
   ],
   "source": [
    "minimum_score(forecast_df, test)"
   ]
  },
  {
   "cell_type": "code",
   "execution_count": 12,
   "metadata": {},
   "outputs": [
    {
     "name": "stdout",
     "output_type": "stream",
     "text": [
      " * Serving Flask app '__main__'\n",
      " * Debug mode: off\n"
     ]
    },
    {
     "name": "stderr",
     "output_type": "stream",
     "text": [
      "WARNING: This is a development server. Do not use it in a production deployment. Use a production WSGI server instead.\n",
      " * Running on http://127.0.0.1:5000\n",
      "Press CTRL+C to quit\n"
     ]
    }
   ],
   "source": [
    "from flask import Flask, request, render_template, jsonify\n",
    "\n",
    "app = Flask(__name__)\n",
    "\n",
    "#@app.route('/',)\n",
    "#def loadpage():\n",
    "#    return render_template('home.html', query='') # try with simple dataframe and refresh button\n",
    "\n",
    "@app.route('/') # use POST request if person needs to upload data\n",
    "def retrain():\n",
    "    scaled_train, test, train_timeframe, test_timeframe, scaler = data_preprocessing()\n",
    "    scaled_train.index = train_timeframe\n",
    "\n",
    "    model = kalman_model_retraining(scaled_train, test)\n",
    "    forecast_df = model_prediction(model, test)\n",
    "    minimum_score(forecast_df, test)\n",
    "\n",
    "    # Quality control\n",
    "    if minimum_score(forecast_df, test) == True: # satisfy the minimum score\n",
    "        forecast_html = forecast_df.to_html()\n",
    "    \n",
    "        # html template should have two outputs, one is the dataset, other is the message\n",
    "        return forecast_html\n",
    "    #render_template(output1 = o1, 'home.html', query='Model retrained successfully and passed the minimum score')\n",
    "    #else:  # failed the minimum score\n",
    "    #    return render_template('home.html', query='Model retrained successfully but failed the minimum score')\n",
    "\n",
    "\n",
    "app.run()"
   ]
  },
  {
   "cell_type": "code",
   "execution_count": null,
   "metadata": {},
   "outputs": [
    {
     "ename": "SyntaxError",
     "evalue": "invalid syntax (546931686.py, line 1)",
     "output_type": "error",
     "traceback": [
      "\u001b[1;36m  Cell \u001b[1;32mIn[20], line 1\u001b[1;36m\u001b[0m\n\u001b[1;33m    curl -X POST -H \"Content-Type: application/json\" -d '{\"data_path\": \"data/new_data.csv\"}' http://127.0.0.1:5000/retrain\u001b[0m\n\u001b[1;37m            ^\u001b[0m\n\u001b[1;31mSyntaxError\u001b[0m\u001b[1;31m:\u001b[0m invalid syntax\n"
     ]
    }
   ],
   "source": [
    "curl -X POST -H \"Content-Type: application/json\" -d '{\"data_path\": \"data/new_data.csv\"}' http://127.0.0.1:5000/retrain\n"
   ]
  },
  {
   "cell_type": "code",
   "execution_count": null,
   "metadata": {},
   "outputs": [],
   "source": []
  }
 ],
 "metadata": {
  "kernelspec": {
   "display_name": "tensorflowgpu",
   "language": "python",
   "name": "python3"
  },
  "language_info": {
   "codemirror_mode": {
    "name": "ipython",
    "version": 3
   },
   "file_extension": ".py",
   "mimetype": "text/x-python",
   "name": "python",
   "nbconvert_exporter": "python",
   "pygments_lexer": "ipython3",
   "version": "3.9.12"
  }
 },
 "nbformat": 4,
 "nbformat_minor": 2
}
